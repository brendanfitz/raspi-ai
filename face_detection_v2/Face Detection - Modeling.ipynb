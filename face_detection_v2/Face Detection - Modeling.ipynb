{
 "cells": [
  {
   "cell_type": "code",
   "execution_count": 1,
   "id": "0890419b-f688-4ab2-ac49-2fb5e8b5b367",
   "metadata": {
    "tags": []
   },
   "outputs": [],
   "source": [
    "import tensorflow as tf\n",
    "import json\n",
    "import numpy as np\n",
    "from matplotlib import pyplot as plt\n",
    "from pathlib import Path\n",
    "import cv2\n",
    "import math\n",
    "import wandb\n",
    "\n",
    "data_wd = Path('/data') / 'raspi_face_detection'\n",
    "img_path = data_wd / 'images'\n",
    "labels_path = data_wd / 'labels'\n",
    "\n",
    "model_sets_path = data_wd / 'model_sets'\n",
    "aug_sets_path = data_wd / 'aug_data'"
   ]
  },
  {
   "cell_type": "markdown",
   "id": "0c2c64c6-01bc-4212-971d-540b49121703",
   "metadata": {},
   "source": [
    "# 1 Weights & Biases Configuration"
   ]
  },
  {
   "cell_type": "code",
   "execution_count": 2,
   "id": "1ca463b5-4c69-4079-9c3d-28ec66695be0",
   "metadata": {},
   "outputs": [
    {
     "name": "stderr",
     "output_type": "stream",
     "text": [
      "Failed to detect the name of this notebook, you can set it manually with the WANDB_NOTEBOOK_NAME environment variable to enable code saving.\n",
      "\u001b[34m\u001b[1mwandb\u001b[0m: Currently logged in as: \u001b[33mbrendanfitz\u001b[0m (\u001b[33mfitzai\u001b[0m). Use \u001b[1m`wandb login --relogin`\u001b[0m to force relogin\n"
     ]
    },
    {
     "data": {
      "text/html": [
       "Tracking run with wandb version 0.17.0"
      ],
      "text/plain": [
       "<IPython.core.display.HTML object>"
      ]
     },
     "metadata": {},
     "output_type": "display_data"
    },
    {
     "data": {
      "text/html": [
       "Run data is saved locally in <code>/home/brendan/Documents/GitHub/raspi-ai/face_detection_v2/wandb/run-20240523_113409-g1ywvrq5</code>"
      ],
      "text/plain": [
       "<IPython.core.display.HTML object>"
      ]
     },
     "metadata": {},
     "output_type": "display_data"
    },
    {
     "data": {
      "text/html": [
       "Syncing run <strong><a href='https://wandb.ai/fitzai/raspi-facial-recognition/runs/g1ywvrq5' target=\"_blank\">ethereal-aardvark-28</a></strong> to <a href='https://wandb.ai/fitzai/raspi-facial-recognition' target=\"_blank\">Weights & Biases</a> (<a href='https://wandb.me/run' target=\"_blank\">docs</a>)<br/>"
      ],
      "text/plain": [
       "<IPython.core.display.HTML object>"
      ]
     },
     "metadata": {},
     "output_type": "display_data"
    },
    {
     "data": {
      "text/html": [
       " View project at <a href='https://wandb.ai/fitzai/raspi-facial-recognition' target=\"_blank\">https://wandb.ai/fitzai/raspi-facial-recognition</a>"
      ],
      "text/plain": [
       "<IPython.core.display.HTML object>"
      ]
     },
     "metadata": {},
     "output_type": "display_data"
    },
    {
     "data": {
      "text/html": [
       " View run at <a href='https://wandb.ai/fitzai/raspi-facial-recognition/runs/g1ywvrq5' target=\"_blank\">https://wandb.ai/fitzai/raspi-facial-recognition/runs/g1ywvrq5</a>"
      ],
      "text/plain": [
       "<IPython.core.display.HTML object>"
      ]
     },
     "metadata": {},
     "output_type": "display_data"
    }
   ],
   "source": [
    "run = wandb.init(\n",
    "    # set the wandb project where this run will be logged\n",
    "    project='raspi-facial-recognition',\n",
    "\n",
    "    # track hyperparameters and run metadata\n",
    "    config={\n",
    "        'learning_rate': 0.0001,\n",
    "        'image_cnt': len(list(img_path.glob('*'))),\n",
    "        'epochs': 75,\n",
    "        'batch_size': 128,\n",
    "        'lr_decay_divider': 0.75,\n",
    "        'dropout_rate': 0.2,\n",
    "        'classloss_weight': 0.1,\n",
    "        'loss_delta_coord_multiplier': 1\n",
    "        \n",
    "    }\n",
    ")\n",
    "\n",
    "class LRLogger(tf.keras.callbacks.Callback):\n",
    "    def __init__(self, optimizer):\n",
    "      super(LRLogger, self).__init__()\n",
    "      self.optimizer = optimizer\n",
    "\n",
    "    def on_epoch_end(self, epoch, logs):\n",
    "      lr = opt._decayed_lr(tf.float32).numpy()\n",
    "      wandb.log({\"lr\": lr}, commit=False)\n",
    "\n",
    "config = wandb.config"
   ]
  },
  {
   "cell_type": "markdown",
   "id": "649a439d-94e2-4594-bdb2-60731f2022f3",
   "metadata": {},
   "source": [
    "### 2.2 Limit GPU Memory Growth"
   ]
  },
  {
   "cell_type": "code",
   "execution_count": 3,
   "id": "0c9d10d3-16ac-4fdb-ac24-fdbaee07ac04",
   "metadata": {
    "editable": true,
    "slideshow": {
     "slide_type": ""
    },
    "tags": []
   },
   "outputs": [
    {
     "name": "stderr",
     "output_type": "stream",
     "text": [
      "2024-05-23 11:34:14.550513: I tensorflow/stream_executor/cuda/cuda_gpu_executor.cc:936] successful NUMA node read from SysFS had negative value (-1), but there must be at least one NUMA node, so returning NUMA node zero\n",
      "2024-05-23 11:34:14.555582: I tensorflow/stream_executor/cuda/cuda_gpu_executor.cc:936] successful NUMA node read from SysFS had negative value (-1), but there must be at least one NUMA node, so returning NUMA node zero\n",
      "2024-05-23 11:34:14.555743: I tensorflow/stream_executor/cuda/cuda_gpu_executor.cc:936] successful NUMA node read from SysFS had negative value (-1), but there must be at least one NUMA node, so returning NUMA node zero\n"
     ]
    }
   ],
   "source": [
    "# Avoid OOM errors by setting GPU Memory Consumption Growth\n",
    "gpus = tf.config.experimental.list_physical_devices('GPU')\n",
    "for gpu in gpus: \n",
    "    tf.config.experimental.set_memory_growth(gpu, True)"
   ]
  },
  {
   "cell_type": "code",
   "execution_count": 4,
   "id": "61e1e0db-4bad-42f1-9b25-86e0385c0972",
   "metadata": {
    "tags": []
   },
   "outputs": [
    {
     "data": {
      "text/plain": [
       "[PhysicalDevice(name='/physical_device:GPU:0', device_type='GPU')]"
      ]
     },
     "execution_count": 4,
     "metadata": {},
     "output_type": "execute_result"
    }
   ],
   "source": [
    "tf.config.list_physical_devices('GPU')"
   ]
  },
  {
   "cell_type": "markdown",
   "id": "e654aaab-fcac-478c-be9e-61dafb5bf5a8",
   "metadata": {
    "editable": true,
    "slideshow": {
     "slide_type": ""
    },
    "tags": []
   },
   "source": [
    "### 5.2 Load Augmented Images to Tensorflow Dataset"
   ]
  },
  {
   "cell_type": "code",
   "execution_count": 5,
   "id": "74cd08c4-7042-41a0-8f88-08bda48fe384",
   "metadata": {},
   "outputs": [],
   "source": [
    "def load_image(x): \n",
    "    byte_img = tf.io.read_file(x)\n",
    "    img = tf.io.decode_jpeg(byte_img)\n",
    "    return img"
   ]
  },
  {
   "cell_type": "code",
   "execution_count": 6,
   "id": "65552098-6c10-4ba6-b580-66f1a78cd0ff",
   "metadata": {
    "editable": true,
    "slideshow": {
     "slide_type": ""
    },
    "tags": []
   },
   "outputs": [
    {
     "name": "stderr",
     "output_type": "stream",
     "text": [
      "2024-05-23 11:34:14.717514: I tensorflow/core/platform/cpu_feature_guard.cc:151] This TensorFlow binary is optimized with oneAPI Deep Neural Network Library (oneDNN) to use the following CPU instructions in performance-critical operations:  SSE4.1 SSE4.2 AVX AVX2 FMA\n",
      "To enable them in other operations, rebuild TensorFlow with the appropriate compiler flags.\n",
      "2024-05-23 11:34:14.718695: I tensorflow/stream_executor/cuda/cuda_gpu_executor.cc:936] successful NUMA node read from SysFS had negative value (-1), but there must be at least one NUMA node, so returning NUMA node zero\n",
      "2024-05-23 11:34:14.718885: I tensorflow/stream_executor/cuda/cuda_gpu_executor.cc:936] successful NUMA node read from SysFS had negative value (-1), but there must be at least one NUMA node, so returning NUMA node zero\n",
      "2024-05-23 11:34:14.719071: I tensorflow/stream_executor/cuda/cuda_gpu_executor.cc:936] successful NUMA node read from SysFS had negative value (-1), but there must be at least one NUMA node, so returning NUMA node zero\n",
      "2024-05-23 11:34:15.027733: I tensorflow/stream_executor/cuda/cuda_gpu_executor.cc:936] successful NUMA node read from SysFS had negative value (-1), but there must be at least one NUMA node, so returning NUMA node zero\n",
      "2024-05-23 11:34:15.027909: I tensorflow/stream_executor/cuda/cuda_gpu_executor.cc:936] successful NUMA node read from SysFS had negative value (-1), but there must be at least one NUMA node, so returning NUMA node zero\n",
      "2024-05-23 11:34:15.028051: I tensorflow/stream_executor/cuda/cuda_gpu_executor.cc:936] successful NUMA node read from SysFS had negative value (-1), but there must be at least one NUMA node, so returning NUMA node zero\n",
      "2024-05-23 11:34:15.028166: I tensorflow/core/common_runtime/gpu/gpu_device.cc:1525] Created device /job:localhost/replica:0/task:0/device:GPU:0 with 20554 MB memory:  -> device: 0, name: NVIDIA GeForce RTX 3090, pci bus id: 0000:0a:00.0, compute capability: 8.6\n"
     ]
    }
   ],
   "source": [
    "train_images = tf.data.Dataset.list_files(str(aug_sets_path / 'train' / 'images'/ '*.jpg'), shuffle=False)\n",
    "train_images = train_images.map(load_image)\n",
    "train_images = train_images.map(lambda x: tf.image.resize(x, (120,120)))\n",
    "train_images = train_images.map(lambda x: x/255)"
   ]
  },
  {
   "cell_type": "code",
   "execution_count": 7,
   "id": "62311cb0-759f-414f-9786-7c87a4f0943d",
   "metadata": {
    "editable": true,
    "slideshow": {
     "slide_type": ""
    },
    "tags": []
   },
   "outputs": [],
   "source": [
    "test_images = tf.data.Dataset.list_files(str(aug_sets_path / 'test' / 'images'/ '*.jpg'), shuffle=False)\n",
    "test_images = test_images.map(load_image)\n",
    "test_images = test_images.map(lambda x: tf.image.resize(x, (120,120)))\n",
    "test_images = test_images.map(lambda x: x/255)"
   ]
  },
  {
   "cell_type": "code",
   "execution_count": 8,
   "id": "9adff63a-4d84-4d4b-b416-355cb3abaeb5",
   "metadata": {
    "editable": true,
    "slideshow": {
     "slide_type": ""
    },
    "tags": []
   },
   "outputs": [],
   "source": [
    "val_images = tf.data.Dataset.list_files(str(aug_sets_path / 'val' / 'images'/ '*.jpg'), shuffle=False)\n",
    "val_images = val_images.map(load_image)\n",
    "val_images = val_images.map(lambda x: tf.image.resize(x, (120,120)))\n",
    "val_images = val_images.map(lambda x: x/255)"
   ]
  },
  {
   "cell_type": "code",
   "execution_count": 9,
   "id": "7875034d-0985-4872-afb3-a86ac2402801",
   "metadata": {
    "editable": true,
    "slideshow": {
     "slide_type": ""
    },
    "tags": []
   },
   "outputs": [
    {
     "data": {
      "text/plain": [
       "array([[[0.1125    , 0.15122549, 0.34191176],\n",
       "        [0.0908701 , 0.1810049 , 0.40667892],\n",
       "        [0.09791667, 0.16599265, 0.39558825],\n",
       "        ...,\n",
       "        [0.99607843, 1.        , 1.        ],\n",
       "        [0.997549  , 0.9906863 , 1.        ],\n",
       "        [0.9352941 , 0.90392154, 0.95686275]],\n",
       "\n",
       "       [[0.11709559, 0.17003676, 0.34797794],\n",
       "        [0.0911152 , 0.18768382, 0.41121325],\n",
       "        [0.08731618, 0.16182598, 0.38927695],\n",
       "        ...,\n",
       "        [0.99607843, 1.        , 1.        ],\n",
       "        [0.9965686 , 0.9901348 , 1.        ],\n",
       "        [0.9355392 , 0.90416664, 0.95710784]],\n",
       "\n",
       "       [[0.07567402, 0.1286152 , 0.30655637],\n",
       "        [0.08474265, 0.17830883, 0.41084558],\n",
       "        [0.09460784, 0.16911764, 0.40042892],\n",
       "        ...,\n",
       "        [0.99264705, 1.        , 0.9965686 ],\n",
       "        [0.9995098 , 0.99264705, 1.        ],\n",
       "        [0.9356005 , 0.9042279 , 0.9571691 ]],\n",
       "\n",
       "       ...,\n",
       "\n",
       "       [[0.08511029, 0.11164216, 0.15116422],\n",
       "        [0.09019608, 0.11764706, 0.15686275],\n",
       "        [0.09013481, 0.12542892, 0.16072305],\n",
       "        ...,\n",
       "        [0.05827206, 0.0778799 , 0.10140932],\n",
       "        [0.05006127, 0.06574755, 0.10104167],\n",
       "        [0.03952206, 0.04761029, 0.07310049]],\n",
       "\n",
       "       [[0.08988971, 0.10557598, 0.14871323],\n",
       "        [0.09405638, 0.12150735, 0.16072305],\n",
       "        [0.1004902 , 0.13578431, 0.17107843],\n",
       "        ...,\n",
       "        [0.06096814, 0.07273284, 0.10802696],\n",
       "        [0.15539216, 0.16813725, 0.19509804],\n",
       "        [0.03045343, 0.03615196, 0.05851716]],\n",
       "\n",
       "       [[0.09613971, 0.11917892, 0.1598652 ],\n",
       "        [0.09705883, 0.1245098 , 0.15943627],\n",
       "        [0.10208333, 0.13033088, 0.1723652 ],\n",
       "        ...,\n",
       "        [0.03235294, 0.04901961, 0.07659314],\n",
       "        [0.22285539, 0.23523284, 0.2574755 ],\n",
       "        [0.21537991, 0.22408088, 0.24368873]]], dtype=float32)"
      ]
     },
     "execution_count": 9,
     "metadata": {},
     "output_type": "execute_result"
    }
   ],
   "source": [
    "train_images.as_numpy_iterator().next()"
   ]
  },
  {
   "cell_type": "markdown",
   "id": "d99bb212-0ff6-4438-a10c-323dd9d25b30",
   "metadata": {
    "editable": true,
    "slideshow": {
     "slide_type": ""
    },
    "tags": []
   },
   "source": [
    "# 6. Prepare Labels"
   ]
  },
  {
   "cell_type": "markdown",
   "id": "16d1cf14-d695-453c-83aa-fe323ce32c31",
   "metadata": {
    "editable": true,
    "slideshow": {
     "slide_type": ""
    },
    "tags": []
   },
   "source": [
    "### 6.1 Build Label Loading Function"
   ]
  },
  {
   "cell_type": "code",
   "execution_count": 10,
   "id": "c6ffbc4d-4331-4cd2-a97c-395a290b8b53",
   "metadata": {
    "editable": true,
    "slideshow": {
     "slide_type": ""
    },
    "tags": []
   },
   "outputs": [],
   "source": [
    "import itertools"
   ]
  },
  {
   "cell_type": "code",
   "execution_count": 11,
   "id": "f89f2456-d0e5-48d0-b485-33c7a4aec520",
   "metadata": {
    "editable": true,
    "slideshow": {
     "slide_type": ""
    },
    "tags": []
   },
   "outputs": [
    {
     "data": {
      "text/plain": [
       "([2],\n",
       " [[0, 0, 0, 0],\n",
       "  [0.053381995133820005,\n",
       "   0.316139497161395,\n",
       "   0.20531494998648275,\n",
       "   0.5172749391727494]])"
      ]
     },
     "execution_count": 11,
     "metadata": {},
     "output_type": "execute_result"
    }
   ],
   "source": [
    "# fn = '49e246c6-0968-11ef-b027-dca632a68397_5.json' # both\n",
    "# fn = '3a38b642-0968-11ef-b027-dca632a68397_4.json' # kara\n",
    "# fn = '4a2f0b44-0965-11ef-a3f3-dca632a68397_37.json' # brendan\n",
    "fn = '369aab30-0968-11ef-b027-dca632a68397_0.json' # error\n",
    "label_path = aug_sets_path / 'test' / 'labels' / fn\n",
    "with open(label_path, 'r', encoding = \"utf-8\") as f:\n",
    "    label = json.load(f)\n",
    "\n",
    "label['classes'], label['bboxes']"
   ]
  },
  {
   "cell_type": "code",
   "execution_count": 12,
   "id": "ea50b5d7-e51f-411f-9f53-586fad406266",
   "metadata": {
    "editable": true,
    "slideshow": {
     "slide_type": ""
    },
    "tags": []
   },
   "outputs": [],
   "source": [
    "def load_labels(label_path):\n",
    "    with open(label_path.numpy(), 'r', encoding = \"utf-8\") as f:\n",
    "        label = json.load(f)\n",
    "\n",
    "    return [int(x in label['classes']) for x in range(1, 3)], list(itertools.chain(*label['bboxes']))\n",
    "\n",
    "# classes, bboxes = load_labels(label_path)"
   ]
  },
  {
   "cell_type": "markdown",
   "id": "367eaf62-dda9-4af6-9dfc-ce75662d3a0d",
   "metadata": {
    "editable": true,
    "slideshow": {
     "slide_type": ""
    },
    "tags": []
   },
   "source": [
    "### 6.2 Load Labels to Tensorflow Dataset"
   ]
  },
  {
   "cell_type": "code",
   "execution_count": 13,
   "id": "dea64cac-37b8-4940-8ddb-7254fb54810e",
   "metadata": {
    "editable": true,
    "slideshow": {
     "slide_type": ""
    },
    "tags": []
   },
   "outputs": [],
   "source": [
    "train_labels = tf.data.Dataset.list_files(str(aug_sets_path / 'train' / 'labels'/ '*.json'), shuffle=False)\n",
    "train_labels = train_labels.map(lambda x: tf.py_function(load_labels, [x], [tf.uint8, tf.float16]))"
   ]
  },
  {
   "cell_type": "code",
   "execution_count": 14,
   "id": "0a9df627-59dc-4351-afc3-718c9f66dad4",
   "metadata": {
    "editable": true,
    "slideshow": {
     "slide_type": ""
    },
    "tags": []
   },
   "outputs": [],
   "source": [
    "test_labels = tf.data.Dataset.list_files(str(aug_sets_path / 'test' / 'labels'/ '*.json'), shuffle=False)\n",
    "test_labels = test_labels.map(lambda x: tf.py_function(load_labels, [x], [tf.uint8, tf.float16]))"
   ]
  },
  {
   "cell_type": "code",
   "execution_count": 15,
   "id": "dbe855a5-3819-4e40-9b56-f80d34985b7a",
   "metadata": {
    "editable": true,
    "slideshow": {
     "slide_type": ""
    },
    "tags": []
   },
   "outputs": [],
   "source": [
    "val_labels = tf.data.Dataset.list_files(str(aug_sets_path / 'val' / 'labels'/ '*.json'), shuffle=False)\n",
    "val_labels = val_labels.map(lambda x: tf.py_function(load_labels, [x], [tf.uint8, tf.float16]))"
   ]
  },
  {
   "cell_type": "markdown",
   "id": "4f14cfac-bc95-40f4-8971-f13988ba5498",
   "metadata": {
    "editable": true,
    "slideshow": {
     "slide_type": ""
    },
    "tags": []
   },
   "source": [
    "# 7. Combine Label and Image Samples"
   ]
  },
  {
   "cell_type": "markdown",
   "id": "9e2161b5-711b-4770-bbda-476881805a47",
   "metadata": {
    "editable": true,
    "slideshow": {
     "slide_type": ""
    },
    "tags": []
   },
   "source": [
    "### 7.1 Check Partition Lengths"
   ]
  },
  {
   "cell_type": "code",
   "execution_count": null,
   "id": "245e1701-1bb0-415d-909f-3e32ae0a741b",
   "metadata": {
    "editable": true,
    "slideshow": {
     "slide_type": ""
    },
    "tags": []
   },
   "outputs": [],
   "source": [
    "len(train_images), len(train_labels), len(test_images), len(test_labels), len(val_images), len(val_labels)"
   ]
  },
  {
   "cell_type": "markdown",
   "id": "7d240ef0-1d47-485b-9a6e-edf7f22ebaa9",
   "metadata": {
    "editable": true,
    "slideshow": {
     "slide_type": ""
    },
    "tags": []
   },
   "source": [
    "### 7.2 Create Final Datasets (Images/Labels)"
   ]
  },
  {
   "cell_type": "code",
   "execution_count": null,
   "id": "fd987743-6513-4e49-aed8-ecd617cadf8f",
   "metadata": {
    "editable": true,
    "slideshow": {
     "slide_type": ""
    },
    "tags": []
   },
   "outputs": [],
   "source": [
    "train = tf.data.Dataset.zip((train_images, train_labels))\n",
    "train = train.shuffle(len(train_images))\n",
    "train = train.batch(config.batch_size)\n",
    "train = train.prefetch(4)"
   ]
  },
  {
   "cell_type": "code",
   "execution_count": null,
   "id": "4ba2f5de-911e-492f-998d-4a2c0ef7ddd1",
   "metadata": {
    "editable": true,
    "slideshow": {
     "slide_type": ""
    },
    "tags": []
   },
   "outputs": [],
   "source": [
    "test = tf.data.Dataset.zip((test_images, test_labels))\n",
    "test = test.shuffle(len(test_images))\n",
    "test = test.batch(config.batch_size)\n",
    "test = test.prefetch(4)"
   ]
  },
  {
   "cell_type": "code",
   "execution_count": null,
   "id": "7e5ca956-8a6d-4323-bd27-f3b10d24d4da",
   "metadata": {
    "editable": true,
    "slideshow": {
     "slide_type": ""
    },
    "tags": []
   },
   "outputs": [],
   "source": [
    "val = tf.data.Dataset.zip((val_images, val_labels))\n",
    "val = val.shuffle(len(val_images))\n",
    "val = val.batch(config.batch_size)\n",
    "val = val.prefetch(4)"
   ]
  },
  {
   "cell_type": "markdown",
   "id": "989fe0c7-717f-4322-8ed4-c53bba98aba7",
   "metadata": {
    "editable": true,
    "slideshow": {
     "slide_type": ""
    },
    "tags": []
   },
   "source": [
    "### 7.3 View Images and Annotations"
   ]
  },
  {
   "cell_type": "code",
   "execution_count": null,
   "id": "84f31426-f579-4019-b0d6-847eac4d7f11",
   "metadata": {
    "editable": true,
    "slideshow": {
     "slide_type": ""
    },
    "tags": []
   },
   "outputs": [],
   "source": [
    "data_samples = train.as_numpy_iterator()"
   ]
  },
  {
   "cell_type": "code",
   "execution_count": null,
   "id": "d07a95f0-4c0f-4cba-a46b-a7bea9a0039c",
   "metadata": {
    "editable": true,
    "slideshow": {
     "slide_type": ""
    },
    "tags": []
   },
   "outputs": [],
   "source": [
    "res = data_samples.next()\n",
    "fig, ax = plt.subplots(ncols=4, figsize=(20,20))\n",
    "for idx in range(4): \n",
    "    sample_image = res[0][idx]\n",
    "    sample_coords = res[1][1][idx]\n",
    "    sample_labels = ', '.join(res[1][0][idx].astype(str).tolist())\n",
    "\n",
    "    cv2.rectangle(sample_image, \n",
    "                  tuple(np.multiply(sample_coords[0:2], [120,120]).astype(int)),\n",
    "                  tuple(np.multiply(sample_coords[2:4], [120,120]).astype(int)), (255,0,0), 2)\n",
    "    cv2.rectangle(sample_image, \n",
    "                  tuple(np.multiply(sample_coords[4:6], [120,120]).astype(int)),\n",
    "                  tuple(np.multiply(sample_coords[6:8], [120,120]).astype(int)), (0,255,0), 2)\n",
    "\n",
    "    ax[idx].imshow(sample_image)\n",
    "    ax[idx].set_title(sample_labels)"
   ]
  },
  {
   "cell_type": "markdown",
   "id": "ef38146d-5bdf-4e5d-94fd-d793e4441d70",
   "metadata": {
    "editable": true,
    "slideshow": {
     "slide_type": ""
    },
    "tags": []
   },
   "source": [
    "# 8. Build Deep Learning using the Functional API"
   ]
  },
  {
   "cell_type": "markdown",
   "id": "ecdf415b-a70f-4e38-836f-c3380f6f96a6",
   "metadata": {
    "editable": true,
    "slideshow": {
     "slide_type": ""
    },
    "tags": []
   },
   "source": [
    "### 8.1 Import Layers and Base Network"
   ]
  },
  {
   "cell_type": "code",
   "execution_count": null,
   "id": "0614818f-5810-48e4-ab9b-5339112a70fb",
   "metadata": {
    "editable": true,
    "slideshow": {
     "slide_type": ""
    },
    "tags": []
   },
   "outputs": [],
   "source": [
    "from tensorflow.keras.models import Model\n",
    "from tensorflow.keras.layers import Input, Conv2D, Dense, GlobalMaxPooling2D, Dropout\n",
    "from tensorflow.keras.applications import VGG16"
   ]
  },
  {
   "cell_type": "markdown",
   "id": "91390af6-6fe3-4217-b6d4-f11a57807a70",
   "metadata": {
    "editable": true,
    "slideshow": {
     "slide_type": ""
    },
    "tags": []
   },
   "source": [
    "### 8.2 Download VGG16"
   ]
  },
  {
   "cell_type": "code",
   "execution_count": null,
   "id": "24b0daa7-293a-4f0d-a002-0bef5bf6549c",
   "metadata": {
    "editable": true,
    "slideshow": {
     "slide_type": ""
    },
    "tags": []
   },
   "outputs": [],
   "source": [
    "vgg = VGG16(include_top=False)"
   ]
  },
  {
   "cell_type": "code",
   "execution_count": null,
   "id": "5efb1f64-7851-456f-aa6e-9de1600ab36e",
   "metadata": {
    "editable": true,
    "slideshow": {
     "slide_type": ""
    },
    "tags": []
   },
   "outputs": [],
   "source": [
    "vgg.summary()"
   ]
  },
  {
   "cell_type": "markdown",
   "id": "5aef15a5-8551-485f-9669-b694161af233",
   "metadata": {
    "editable": true,
    "slideshow": {
     "slide_type": ""
    },
    "tags": []
   },
   "source": [
    "### 8.3 Build instance of Network"
   ]
  },
  {
   "cell_type": "code",
   "execution_count": null,
   "id": "2fbcaa07-42f5-4452-a687-e0a35b20f949",
   "metadata": {
    "editable": true,
    "slideshow": {
     "slide_type": ""
    },
    "tags": []
   },
   "outputs": [],
   "source": [
    "def build_model(): \n",
    "    input_layer = Input(shape=(120,120,3))\n",
    "    \n",
    "    vgg = VGG16(include_top=False)(input_layer)\n",
    "\n",
    "    # Classification Model  \n",
    "    f1 = GlobalMaxPooling2D()(vgg)\n",
    "    class1 = Dense(2048, activation='relu')(f1)\n",
    "    class1 = tf.keras.layers.Dropout(config.dropout_rate)(class1)\n",
    "    class2 = Dense(2, activation='sigmoid')(class1)\n",
    "    \n",
    "    # Bounding box model\n",
    "    f2 = GlobalMaxPooling2D()(vgg)\n",
    "    regress1 = Dense(2048, activation='relu')(f2)\n",
    "    regress1 = Dropout(config.dropout_rate)(regress1)\n",
    "    regress2 = Dense(8, activation='sigmoid')(regress1)\n",
    "    \n",
    "    facetracker = Model(inputs=input_layer, outputs=[class2, regress2])\n",
    "    return facetracker"
   ]
  },
  {
   "cell_type": "markdown",
   "id": "2d37abec-99e9-411d-aab0-90df8bfb21cb",
   "metadata": {
    "editable": true,
    "slideshow": {
     "slide_type": ""
    },
    "tags": []
   },
   "source": [
    "### 8.4 Test out Neural Network"
   ]
  },
  {
   "cell_type": "code",
   "execution_count": null,
   "id": "a6edb48b-dc05-45e3-a8f0-fe45d809c1f3",
   "metadata": {
    "editable": true,
    "slideshow": {
     "slide_type": ""
    },
    "tags": []
   },
   "outputs": [],
   "source": [
    "facetracker = build_model()"
   ]
  },
  {
   "cell_type": "code",
   "execution_count": null,
   "id": "8f46ff89-2871-452f-a396-0ca1d8c9343d",
   "metadata": {
    "editable": true,
    "slideshow": {
     "slide_type": ""
    },
    "tags": []
   },
   "outputs": [],
   "source": [
    "facetracker.summary()"
   ]
  },
  {
   "cell_type": "code",
   "execution_count": null,
   "id": "af7415b8-3d24-40cb-b15f-9597b6c34082",
   "metadata": {
    "editable": true,
    "slideshow": {
     "slide_type": ""
    },
    "tags": []
   },
   "outputs": [],
   "source": [
    "X, y = train.as_numpy_iterator().next()"
   ]
  },
  {
   "cell_type": "markdown",
   "id": "8bcd40a7-d062-4c0c-a739-f664051f6095",
   "metadata": {
    "editable": true,
    "slideshow": {
     "slide_type": ""
    },
    "tags": []
   },
   "source": [
    "# 9. Define Losses and Optimizers"
   ]
  },
  {
   "cell_type": "markdown",
   "id": "2b6b477e-abf1-4695-967f-bf764947233b",
   "metadata": {
    "editable": true,
    "slideshow": {
     "slide_type": ""
    },
    "tags": []
   },
   "source": [
    "### 9.1 Define Optimizer and LR"
   ]
  },
  {
   "cell_type": "code",
   "execution_count": null,
   "id": "60b4c3f7-593e-470d-8541-c8fd84b078f6",
   "metadata": {
    "editable": true,
    "slideshow": {
     "slide_type": ""
    },
    "tags": []
   },
   "outputs": [],
   "source": [
    "batches_per_epoch = len(train)\n",
    "lr_decay = (1./config.lr_decay_divider -1)/batches_per_epoch\n",
    "lr_decay"
   ]
  },
  {
   "cell_type": "code",
   "execution_count": null,
   "id": "0a1eb312-2ae2-426e-af2a-6613cf7f40a6",
   "metadata": {
    "editable": true,
    "slideshow": {
     "slide_type": ""
    },
    "tags": []
   },
   "outputs": [],
   "source": [
    "opt = tf.keras.optimizers.Adam(learning_rate=config.learning_rate, decay=lr_decay)"
   ]
  },
  {
   "cell_type": "markdown",
   "id": "568000f8-d638-4252-b52b-4f4ad411c4de",
   "metadata": {
    "editable": true,
    "slideshow": {
     "slide_type": ""
    },
    "tags": []
   },
   "source": [
    "### 9.2 Create Localization Loss and Classification Loss"
   ]
  },
  {
   "cell_type": "code",
   "execution_count": null,
   "id": "b468e6c4-c78c-4cee-a421-db8088574184",
   "metadata": {
    "editable": true,
    "slideshow": {
     "slide_type": ""
    },
    "tags": []
   },
   "outputs": [],
   "source": [
    "def localization_loss(y_classes, y_coords, yhat_coords):\n",
    "    yhat_coords = tf.concat(\n",
    "        (yhat_coords[:, :4] * tf.cast(y_classes[:, 0:1], tf.float32),\n",
    "         yhat_coords[:, 4:] * tf.cast(y_classes[:, 1:2], tf.float32)),\n",
    "        axis=1\n",
    "    )\n",
    "    # differences between coordinates\n",
    "    delta_coord = tf.reduce_sum(tf.square(y_coords[:,:2] - yhat_coords[:,:2])) + tf.reduce_sum(tf.square(y_coords[:,4:6] - yhat_coords[:,4:6]))\n",
    "\n",
    "    # differences between size\n",
    "    delta_size = 0\n",
    "    for i in range(2):\n",
    "        h_true = y_coords[:,3+4*i] - y_coords[:,1+4*i] \n",
    "        w_true = y_coords[:,2+4*i] - y_coords[:,0+4*i] \n",
    "    \n",
    "        h_pred = yhat_coords[:,3+4*i] - yhat_coords[:,1+4*i] \n",
    "        w_pred = yhat_coords[:,2+4*i] - yhat_coords[:,0+4*i] \n",
    "        \n",
    "        delta_size += tf.reduce_sum(tf.square(w_true - w_pred) + tf.square(h_true-h_pred))\n",
    "    \n",
    "    return delta_coord * config.loss_delta_coord_multiplier + delta_size"
   ]
  },
  {
   "cell_type": "code",
   "execution_count": null,
   "id": "733f6e52-c0d6-4c70-81c0-8e386e5228a0",
   "metadata": {},
   "outputs": [],
   "source": [
    "classloss = tf.keras.losses.BinaryCrossentropy()\n",
    "regressloss = localization_loss"
   ]
  },
  {
   "cell_type": "markdown",
   "id": "3411b8cd-ed71-41ac-9ccc-e46136255519",
   "metadata": {
    "editable": true,
    "slideshow": {
     "slide_type": ""
    },
    "tags": []
   },
   "source": [
    "# 10. Train Neural Network"
   ]
  },
  {
   "cell_type": "markdown",
   "id": "c9e510d2-204c-4952-9e8a-f6f2e2cb2dab",
   "metadata": {},
   "source": [
    "### 10.1 Create Custom Model Class"
   ]
  },
  {
   "cell_type": "code",
   "execution_count": null,
   "id": "4326a617-169c-49ea-830d-b45871701205",
   "metadata": {
    "editable": true,
    "slideshow": {
     "slide_type": ""
    },
    "tags": []
   },
   "outputs": [],
   "source": [
    "class FaceTracker(Model): \n",
    "    def __init__(self, eyetracker,  **kwargs): \n",
    "        super().__init__(**kwargs)\n",
    "        self.model = eyetracker\n",
    "\n",
    "    def compile(self, opt, classloss, localizationloss, **kwargs):\n",
    "        super().compile(**kwargs)\n",
    "        self.closs = classloss\n",
    "        self.lloss = localizationloss\n",
    "        self.opt = opt\n",
    "\n",
    "    def lossfn(self, y_classes, y_coords, yhat_classes, yhat_coords):\n",
    "        batch_classloss = self.closs(y_classes, yhat_classes)\n",
    "        batch_localizationloss = self.lloss(tf.cast(y_classes, tf.float32), tf.cast(y_coords, tf.float32), yhat_coords)\n",
    "        \n",
    "        total_loss = batch_localizationloss + config.classloss_weight*batch_classloss\n",
    "        return total_loss, batch_classloss, batch_localizationloss\n",
    "    \n",
    "    def train_step(self, batch, **kwargs): \n",
    "        \n",
    "        X, (y_classes, y_coords) = batch\n",
    "        \n",
    "        with tf.GradientTape() as tape: \n",
    "            yhat_classes, yhat_coords = self.model(X, training=True)\n",
    "            \n",
    "            total_loss, batch_classloss, batch_localizationloss = self.lossfn(y_classes, y_coords, yhat_classes, yhat_coords)\n",
    "            \n",
    "            grad = tape.gradient(total_loss, self.model.trainable_variables)\n",
    "        \n",
    "        opt.apply_gradients(zip(grad, self.model.trainable_variables))\n",
    "        \n",
    "        return {\"total_loss\":total_loss, \"class_loss\":batch_classloss, \"regress_loss\":batch_localizationloss}\n",
    "    \n",
    "    def test_step(self, batch, **kwargs): \n",
    "        X, (y_classes, y_coords) = batch\n",
    "        \n",
    "        yhat_classes, yhat_coords = self.model(X, training=False)\n",
    "        total_loss, batch_classloss, batch_localizationloss = self.lossfn(y_classes, y_coords, yhat_classes, yhat_coords)\n",
    "        \n",
    "        return {\"total_loss\":total_loss, \"class_loss\":batch_classloss, \"regress_loss\":batch_localizationloss}\n",
    "        \n",
    "    def call(self, X, **kwargs): \n",
    "        return self.model(X, **kwargs)\n",
    "\n",
    "model = FaceTracker(facetracker)\n",
    "\n",
    "model.compile(opt, classloss, regressloss)"
   ]
  },
  {
   "cell_type": "markdown",
   "id": "51f6aa36-a379-4e6a-8c4d-7343e0731869",
   "metadata": {
    "editable": true,
    "slideshow": {
     "slide_type": ""
    },
    "tags": []
   },
   "source": [
    "### 10.2 Train"
   ]
  },
  {
   "cell_type": "code",
   "execution_count": null,
   "id": "ea7afe97-4107-41ea-90c4-2a9868f88d91",
   "metadata": {
    "editable": true,
    "slideshow": {
     "slide_type": ""
    },
    "tags": []
   },
   "outputs": [],
   "source": [
    "logdir='logs'"
   ]
  },
  {
   "cell_type": "code",
   "execution_count": null,
   "id": "a71ec6a6-c6c9-4466-a2af-80c8928ccffd",
   "metadata": {
    "editable": true,
    "slideshow": {
     "slide_type": ""
    },
    "tags": []
   },
   "outputs": [],
   "source": [
    "tensorboard_callback = tf.keras.callbacks.TensorBoard(log_dir=logdir)"
   ]
  },
  {
   "cell_type": "code",
   "execution_count": null,
   "id": "982dc878-0aa8-4c9c-a5aa-1598a20e824a",
   "metadata": {
    "editable": true,
    "slideshow": {
     "slide_type": ""
    },
    "tags": []
   },
   "outputs": [],
   "source": [
    "hist = model.fit(train, epochs=config.epochs, validation_data=val, \n",
    "                 callbacks=[tensorboard_callback, wandb.keras.WandbMetricsLogger(), LRLogger(opt)])\n",
    "\n",
    "run.finish()"
   ]
  },
  {
   "cell_type": "markdown",
   "id": "344f38c0-608c-4d76-bea2-202a51c75a78",
   "metadata": {
    "editable": true,
    "slideshow": {
     "slide_type": ""
    },
    "tags": []
   },
   "source": [
    "### 10.3 Plot Performance"
   ]
  },
  {
   "cell_type": "code",
   "execution_count": null,
   "id": "a56a80ae-6489-4fb4-a866-095db19d61e8",
   "metadata": {
    "editable": true,
    "slideshow": {
     "slide_type": ""
    },
    "tags": []
   },
   "outputs": [],
   "source": [
    "fig, ax = plt.subplots(ncols=3, figsize=(20,5))\n",
    "\n",
    "ax[0].plot(hist.history['total_loss'], color='teal', label='loss')\n",
    "ax[0].plot(hist.history['val_total_loss'], color='orange', label='val loss')\n",
    "ax[0].title.set_text('Loss')\n",
    "ax[0].legend()\n",
    "\n",
    "ax[1].plot(hist.history['class_loss'], color='teal', label='class loss')\n",
    "ax[1].plot(hist.history['val_class_loss'], color='orange', label='val class loss')\n",
    "ax[1].title.set_text('Classification Loss')\n",
    "ax[1].legend()\n",
    "\n",
    "ax[2].plot(hist.history['regress_loss'], color='teal', label='regress loss')\n",
    "ax[2].plot(hist.history['val_regress_loss'], color='orange', label='val regress loss')\n",
    "ax[2].title.set_text('Regression Loss')\n",
    "ax[2].legend()\n",
    "\n",
    "plt.show()"
   ]
  },
  {
   "cell_type": "markdown",
   "id": "8caf87dd-c180-48e6-9091-cef4fb40d2b0",
   "metadata": {
    "editable": true,
    "slideshow": {
     "slide_type": ""
    },
    "tags": []
   },
   "source": [
    "# 11. Make Predictions"
   ]
  },
  {
   "cell_type": "markdown",
   "id": "e082cb99-135f-4658-91dd-4cf57911a707",
   "metadata": {},
   "source": [
    "### 11.1 Make Predictions on Test Set"
   ]
  },
  {
   "cell_type": "code",
   "execution_count": null,
   "id": "d7028bef-9e53-45c9-8591-452f8cbd3f0f",
   "metadata": {},
   "outputs": [],
   "source": [
    "test_data = val.as_numpy_iterator()\n",
    "test_sample = test_data.next()"
   ]
  },
  {
   "cell_type": "code",
   "execution_count": null,
   "id": "0caf751d-563b-41fe-9a5b-98c98131294e",
   "metadata": {
    "tags": []
   },
   "outputs": [],
   "source": [
    "test_sample = test_data.next()\n",
    "\n",
    "yhat = facetracker.predict(test_sample[0])\n",
    "\n",
    "fig, ax = plt.subplots(ncols=4, figsize=(20,20))\n",
    "for idx in range(4): \n",
    "    sample_image = test_sample[0][idx]\n",
    "    sample_coords = yhat[1][idx]\n",
    "    \n",
    "    if yhat[0][idx][0] > 0.9:\n",
    "        cv2.rectangle(sample_image, \n",
    "                      tuple(np.multiply(sample_coords[0:2], [120,120]).astype(int)),\n",
    "                      tuple(np.multiply(sample_coords[2:4], [120,120]).astype(int)), (255,0,0), 2)\n",
    "    if yhat[0][idx][1] > 0.9:\n",
    "        cv2.rectangle(sample_image, \n",
    "                      tuple(np.multiply(sample_coords[4:6], [120,120]).astype(int)),\n",
    "                      tuple(np.multiply(sample_coords[6:8], [120,120]).astype(int)), (0,255,0), 2)\n",
    "    \n",
    "    ax[idx].imshow(sample_image)\n",
    "    ax[idx].set_title(', '.join([f'{x:,.0%}' for x in yhat[0][idx]]))"
   ]
  },
  {
   "cell_type": "markdown",
   "id": "11fb466d-bcc5-4b82-803e-8c962db55f06",
   "metadata": {},
   "source": [
    "### 11.2 Save the Model"
   ]
  },
  {
   "cell_type": "code",
   "execution_count": null,
   "id": "de699894-7b18-4984-9538-728f0f452652",
   "metadata": {
    "tags": []
   },
   "outputs": [],
   "source": [
    "facetracker.save('facetracker.h5')"
   ]
  }
 ],
 "metadata": {
  "kernelspec": {
   "display_name": "face_detection",
   "language": "python",
   "name": "face_detection"
  },
  "language_info": {
   "codemirror_mode": {
    "name": "ipython",
    "version": 3
   },
   "file_extension": ".py",
   "mimetype": "text/x-python",
   "name": "python",
   "nbconvert_exporter": "python",
   "pygments_lexer": "ipython3",
   "version": "3.9.18"
  }
 },
 "nbformat": 4,
 "nbformat_minor": 5
}
