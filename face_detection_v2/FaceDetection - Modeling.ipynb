{
 "cells": [
  {
   "cell_type": "code",
   "execution_count": null,
   "id": "6cbb9eff-7f22-4c64-9a61-763a27d34374",
   "metadata": {},
   "outputs": [],
   "source": [
    "%load_ext autoreload\n",
    "%autoreload 2"
   ]
  },
  {
   "cell_type": "code",
   "execution_count": null,
   "id": "0890419b-f688-4ab2-ac49-2fb5e8b5b367",
   "metadata": {
    "tags": []
   },
   "outputs": [],
   "source": [
    "import tensorflow as tf\n",
    "import json\n",
    "import numpy as np\n",
    "from matplotlib import pyplot as plt\n",
    "from pathlib import Path\n",
    "import cv2\n",
    "import math\n",
    "import wandb\n",
    "from utils import extractors, transformers, modelers\n",
    "from utils.extractors import Pathways"
   ]
  },
  {
   "cell_type": "markdown",
   "id": "0c2c64c6-01bc-4212-971d-540b49121703",
   "metadata": {},
   "source": [
    "# 1 Weights & Biases Configuration"
   ]
  },
  {
   "cell_type": "code",
   "execution_count": null,
   "id": "1ca463b5-4c69-4079-9c3d-28ec66695be0",
   "metadata": {},
   "outputs": [],
   "source": [
    "run = wandb.init(\n",
    "    # set the wandb project where this run will be logged\n",
    "    project='raspi-facial-recognition',\n",
    "\n",
    "    # track hyperparameters and run metadata\n",
    "    config={\n",
    "        'learning_rate': 0.0001,\n",
    "        'image_cnt': len(list(Pathways.img_path.glob('*'))),\n",
    "        'epochs': 75,\n",
    "        'batch_size': 128,\n",
    "        'lr_decay_divider': 0.75,\n",
    "        'dropout_rate': 0.2,\n",
    "        'classloss_weight': 0.1,\n",
    "        'loss_delta_coord_multiplier': 1\n",
    "        \n",
    "    }\n",
    ")\n",
    "\n",
    "class LRLogger(tf.keras.callbacks.Callback):\n",
    "    def __init__(self, optimizer):\n",
    "      super(LRLogger, self).__init__()\n",
    "      self.optimizer = optimizer\n",
    "\n",
    "    def on_epoch_end(self, epoch, logs):\n",
    "      lr = opt._decayed_lr(tf.float32).numpy()\n",
    "      wandb.log({\"lr\": lr}, commit=False)\n",
    "\n",
    "config = wandb.config"
   ]
  },
  {
   "cell_type": "markdown",
   "id": "649a439d-94e2-4594-bdb2-60731f2022f3",
   "metadata": {},
   "source": [
    "### 2.2 Limit GPU Memory Growth"
   ]
  },
  {
   "cell_type": "code",
   "execution_count": null,
   "id": "0c9d10d3-16ac-4fdb-ac24-fdbaee07ac04",
   "metadata": {
    "editable": true,
    "slideshow": {
     "slide_type": ""
    },
    "tags": []
   },
   "outputs": [],
   "source": [
    "# Avoid OOM errors by setting GPU Memory Consumption Growth\n",
    "gpus = tf.config.experimental.list_physical_devices('GPU')\n",
    "for gpu in gpus: \n",
    "    tf.config.experimental.set_memory_growth(gpu, True)"
   ]
  },
  {
   "cell_type": "code",
   "execution_count": null,
   "id": "61e1e0db-4bad-42f1-9b25-86e0385c0972",
   "metadata": {
    "tags": []
   },
   "outputs": [],
   "source": [
    "tf.config.list_physical_devices('GPU')"
   ]
  },
  {
   "cell_type": "markdown",
   "id": "7d240ef0-1d47-485b-9a6e-edf7f22ebaa9",
   "metadata": {
    "editable": true,
    "slideshow": {
     "slide_type": ""
    },
    "tags": []
   },
   "source": [
    "# Create Final Datasets (Images/Labels)"
   ]
  },
  {
   "cell_type": "code",
   "execution_count": null,
   "id": "fd987743-6513-4e49-aed8-ecd617cadf8f",
   "metadata": {
    "editable": true,
    "slideshow": {
     "slide_type": ""
    },
    "tags": []
   },
   "outputs": [],
   "source": [
    "train = transformers.create_ds('train')\n",
    "test = transformers.create_ds('test')\n",
    "val = transformers.create_ds('val')"
   ]
  },
  {
   "cell_type": "markdown",
   "id": "989fe0c7-717f-4322-8ed4-c53bba98aba7",
   "metadata": {
    "editable": true,
    "slideshow": {
     "slide_type": ""
    },
    "tags": []
   },
   "source": [
    "# 7.3 View Images and Annotations"
   ]
  },
  {
   "cell_type": "code",
   "execution_count": null,
   "id": "84f31426-f579-4019-b0d6-847eac4d7f11",
   "metadata": {
    "editable": true,
    "slideshow": {
     "slide_type": ""
    },
    "tags": []
   },
   "outputs": [],
   "source": [
    "data_samples = train.as_numpy_iterator()"
   ]
  },
  {
   "cell_type": "code",
   "execution_count": null,
   "id": "d07a95f0-4c0f-4cba-a46b-a7bea9a0039c",
   "metadata": {
    "editable": true,
    "slideshow": {
     "slide_type": ""
    },
    "tags": []
   },
   "outputs": [],
   "source": [
    "res = data_samples.next()\n",
    "fig, ax = plt.subplots(ncols=4, figsize=(20,20))\n",
    "for idx in range(4): \n",
    "    sample_image = res[0][idx]\n",
    "    sample_coords = res[1][1][idx]\n",
    "    sample_labels = ', '.join(res[1][0][idx].astype(str).tolist())\n",
    "\n",
    "    cv2.rectangle(sample_image, \n",
    "                  tuple(np.multiply(sample_coords[0:2], [120,120]).astype(int)),\n",
    "                  tuple(np.multiply(sample_coords[2:4], [120,120]).astype(int)), (255,0,0), 2)\n",
    "    cv2.rectangle(sample_image, \n",
    "                  tuple(np.multiply(sample_coords[4:6], [120,120]).astype(int)),\n",
    "                  tuple(np.multiply(sample_coords[6:8], [120,120]).astype(int)), (0,255,0), 2)\n",
    "\n",
    "    ax[idx].imshow(sample_image)\n",
    "    ax[idx].set_title(sample_labels)"
   ]
  },
  {
   "cell_type": "markdown",
   "id": "ef38146d-5bdf-4e5d-94fd-d793e4441d70",
   "metadata": {
    "editable": true,
    "slideshow": {
     "slide_type": ""
    },
    "tags": []
   },
   "source": [
    "# 8. Build Deep Learning using the Functional API"
   ]
  },
  {
   "cell_type": "markdown",
   "id": "ecdf415b-a70f-4e38-836f-c3380f6f96a6",
   "metadata": {
    "editable": true,
    "slideshow": {
     "slide_type": ""
    },
    "tags": []
   },
   "source": [
    "### 8.1 Import Layers and Base Network"
   ]
  },
  {
   "cell_type": "code",
   "execution_count": null,
   "id": "0614818f-5810-48e4-ab9b-5339112a70fb",
   "metadata": {
    "editable": true,
    "slideshow": {
     "slide_type": ""
    },
    "tags": []
   },
   "outputs": [],
   "source": [
    "from tensorflow.keras.models import Model\n",
    "from tensorflow.keras.layers import Input, Conv2D, Dense, GlobalMaxPooling2D, Dropout\n",
    "from tensorflow.keras.applications import VGG16"
   ]
  },
  {
   "cell_type": "markdown",
   "id": "91390af6-6fe3-4217-b6d4-f11a57807a70",
   "metadata": {
    "editable": true,
    "slideshow": {
     "slide_type": ""
    },
    "tags": []
   },
   "source": [
    "### 8.2 Download VGG16"
   ]
  },
  {
   "cell_type": "code",
   "execution_count": null,
   "id": "24b0daa7-293a-4f0d-a002-0bef5bf6549c",
   "metadata": {
    "editable": true,
    "slideshow": {
     "slide_type": ""
    },
    "tags": []
   },
   "outputs": [],
   "source": [
    "vgg = VGG16(include_top=False)"
   ]
  },
  {
   "cell_type": "code",
   "execution_count": null,
   "id": "5efb1f64-7851-456f-aa6e-9de1600ab36e",
   "metadata": {
    "editable": true,
    "slideshow": {
     "slide_type": ""
    },
    "tags": []
   },
   "outputs": [],
   "source": [
    "vgg.summary()"
   ]
  },
  {
   "cell_type": "markdown",
   "id": "5aef15a5-8551-485f-9669-b694161af233",
   "metadata": {
    "editable": true,
    "slideshow": {
     "slide_type": ""
    },
    "tags": []
   },
   "source": [
    "### 8.3 Build instance of Network"
   ]
  },
  {
   "cell_type": "code",
   "execution_count": null,
   "id": "2fbcaa07-42f5-4452-a687-e0a35b20f949",
   "metadata": {
    "editable": true,
    "slideshow": {
     "slide_type": ""
    },
    "tags": []
   },
   "outputs": [],
   "source": [
    "def build_model(): \n",
    "    input_layer = Input(shape=(120,120,3))\n",
    "    \n",
    "    vgg = VGG16(include_top=False)(input_layer)\n",
    "\n",
    "    # Classification Model  \n",
    "    f1 = GlobalMaxPooling2D()(vgg)\n",
    "    class1 = Dense(2048, activation='relu')(f1)\n",
    "    class1 = tf.keras.layers.Dropout(config.dropout_rate)(class1)\n",
    "    class2 = Dense(1, activation='sigmoid')(class1)\n",
    "    \n",
    "    # Bounding box model\n",
    "    f2 = GlobalMaxPooling2D()(vgg)\n",
    "    regress1 = Dense(2048, activation='relu')(f2)\n",
    "    regress1 = Dropout(config.dropout_rate)(regress1)\n",
    "    regress2 = Dense(8, activation='sigmoid')(regress1)\n",
    "    \n",
    "    facetracker = Model(inputs=input_layer, outputs=[class2, regress2])\n",
    "    return facetracker"
   ]
  },
  {
   "cell_type": "markdown",
   "id": "2d37abec-99e9-411d-aab0-90df8bfb21cb",
   "metadata": {
    "editable": true,
    "slideshow": {
     "slide_type": ""
    },
    "tags": []
   },
   "source": [
    "### 8.4 Test out Neural Network"
   ]
  },
  {
   "cell_type": "code",
   "execution_count": null,
   "id": "a6edb48b-dc05-45e3-a8f0-fe45d809c1f3",
   "metadata": {
    "editable": true,
    "slideshow": {
     "slide_type": ""
    },
    "tags": []
   },
   "outputs": [],
   "source": [
    "facetracker = build_model()"
   ]
  },
  {
   "cell_type": "code",
   "execution_count": null,
   "id": "8f46ff89-2871-452f-a396-0ca1d8c9343d",
   "metadata": {
    "editable": true,
    "slideshow": {
     "slide_type": ""
    },
    "tags": []
   },
   "outputs": [],
   "source": [
    "facetracker.summary()"
   ]
  },
  {
   "cell_type": "code",
   "execution_count": null,
   "id": "af7415b8-3d24-40cb-b15f-9597b6c34082",
   "metadata": {
    "editable": true,
    "slideshow": {
     "slide_type": ""
    },
    "tags": []
   },
   "outputs": [],
   "source": [
    "X, y = train.as_numpy_iterator().next()"
   ]
  },
  {
   "cell_type": "markdown",
   "id": "8bcd40a7-d062-4c0c-a739-f664051f6095",
   "metadata": {
    "editable": true,
    "slideshow": {
     "slide_type": ""
    },
    "tags": []
   },
   "source": [
    "# 9. Define Losses and Optimizers"
   ]
  },
  {
   "cell_type": "markdown",
   "id": "2b6b477e-abf1-4695-967f-bf764947233b",
   "metadata": {
    "editable": true,
    "slideshow": {
     "slide_type": ""
    },
    "tags": []
   },
   "source": [
    "### 9.1 Define Optimizer and LR"
   ]
  },
  {
   "cell_type": "code",
   "execution_count": null,
   "id": "60b4c3f7-593e-470d-8541-c8fd84b078f6",
   "metadata": {
    "editable": true,
    "slideshow": {
     "slide_type": ""
    },
    "tags": []
   },
   "outputs": [],
   "source": [
    "batches_per_epoch = len(train)\n",
    "lr_decay = (1./config.lr_decay_divider -1)/batches_per_epoch\n",
    "f'{lr_decay:,.4}'"
   ]
  },
  {
   "cell_type": "code",
   "execution_count": null,
   "id": "0a1eb312-2ae2-426e-af2a-6613cf7f40a6",
   "metadata": {
    "editable": true,
    "slideshow": {
     "slide_type": ""
    },
    "tags": []
   },
   "outputs": [],
   "source": [
    "opt = tf.keras.optimizers.Adam(learning_rate=config.learning_rate, decay=lr_decay)"
   ]
  },
  {
   "cell_type": "markdown",
   "id": "568000f8-d638-4252-b52b-4f4ad411c4de",
   "metadata": {
    "editable": true,
    "slideshow": {
     "slide_type": ""
    },
    "tags": []
   },
   "source": [
    "### 9.2 Create Localization Loss and Classification Loss"
   ]
  },
  {
   "cell_type": "code",
   "execution_count": null,
   "id": "733f6e52-c0d6-4c70-81c0-8e386e5228a0",
   "metadata": {},
   "outputs": [],
   "source": [
    "classloss = tf.keras.losses.BinaryCrossentropy()\n",
    "regressloss = modelers.localization_loss"
   ]
  },
  {
   "cell_type": "markdown",
   "id": "3411b8cd-ed71-41ac-9ccc-e46136255519",
   "metadata": {
    "editable": true,
    "slideshow": {
     "slide_type": ""
    },
    "tags": []
   },
   "source": [
    "# 10. Train Neural Network"
   ]
  },
  {
   "cell_type": "markdown",
   "id": "c9e510d2-204c-4952-9e8a-f6f2e2cb2dab",
   "metadata": {},
   "source": [
    "### 10.1 Create Custom Model Class"
   ]
  },
  {
   "cell_type": "code",
   "execution_count": null,
   "id": "4326a617-169c-49ea-830d-b45871701205",
   "metadata": {
    "editable": true,
    "slideshow": {
     "slide_type": ""
    },
    "tags": []
   },
   "outputs": [],
   "source": [
    "class FaceTracker(Model): \n",
    "    def __init__(self, eyetracker,  **kwargs): \n",
    "        super().__init__(**kwargs)\n",
    "        self.model = eyetracker\n",
    "\n",
    "    def compile(self, opt, classloss, localizationloss, **kwargs):\n",
    "        super().compile(**kwargs)\n",
    "        self.closs = classloss\n",
    "        self.lloss = localizationloss\n",
    "        self.opt = opt\n",
    "\n",
    "    def lossfn(self, y_classes, y_coords, yhat_classes, yhat_coords):\n",
    "        batch_classloss = self.closs(y_classes, yhat_classes)\n",
    "        batch_localizationloss = self.lloss(tf.cast(y_classes, tf.float32), tf.cast(y_coords, tf.float32), yhat_coords)\n",
    "        \n",
    "        total_loss = batch_localizationloss + config.classloss_weight*batch_classloss\n",
    "        return total_loss, batch_classloss, batch_localizationloss\n",
    "    \n",
    "    def train_step(self, batch, **kwargs): \n",
    "        \n",
    "        X, (y_classes, y_coords) = batch\n",
    "        \n",
    "        with tf.GradientTape() as tape: \n",
    "            yhat_classes, yhat_coords = self.model(X, training=True)\n",
    "            \n",
    "            total_loss, batch_classloss, batch_localizationloss = self.lossfn(y_classes, y_coords, yhat_classes, yhat_coords)\n",
    "            \n",
    "            grad = tape.gradient(total_loss, self.model.trainable_variables)\n",
    "        \n",
    "        opt.apply_gradients(zip(grad, self.model.trainable_variables))\n",
    "        \n",
    "        return {\"total_loss\":total_loss, \"class_loss\":batch_classloss, \"regress_loss\":batch_localizationloss}\n",
    "    \n",
    "    def test_step(self, batch, **kwargs): \n",
    "        X, (y_classes, y_coords) = batch\n",
    "        \n",
    "        yhat_classes, yhat_coords = self.model(X, training=False)\n",
    "        total_loss, batch_classloss, batch_localizationloss = self.lossfn(y_classes, y_coords, yhat_classes, yhat_coords)\n",
    "        \n",
    "        return {\"total_loss\":total_loss, \"class_loss\":batch_classloss, \"regress_loss\":batch_localizationloss}\n",
    "        \n",
    "    def call(self, X, **kwargs): \n",
    "        return self.model(X, **kwargs)\n",
    "\n",
    "model = FaceTracker(facetracker)\n",
    "\n",
    "model.compile(opt, classloss, regressloss)"
   ]
  },
  {
   "cell_type": "markdown",
   "id": "51f6aa36-a379-4e6a-8c4d-7343e0731869",
   "metadata": {
    "editable": true,
    "slideshow": {
     "slide_type": ""
    },
    "tags": []
   },
   "source": [
    "### 10.2 Train"
   ]
  },
  {
   "cell_type": "code",
   "execution_count": null,
   "id": "ea7afe97-4107-41ea-90c4-2a9868f88d91",
   "metadata": {
    "editable": true,
    "slideshow": {
     "slide_type": ""
    },
    "tags": []
   },
   "outputs": [],
   "source": [
    "logdir='logs'"
   ]
  },
  {
   "cell_type": "code",
   "execution_count": null,
   "id": "a71ec6a6-c6c9-4466-a2af-80c8928ccffd",
   "metadata": {
    "editable": true,
    "slideshow": {
     "slide_type": ""
    },
    "tags": []
   },
   "outputs": [],
   "source": [
    "tensorboard_callback = tf.keras.callbacks.TensorBoard(log_dir=logdir)"
   ]
  },
  {
   "cell_type": "code",
   "execution_count": null,
   "id": "982dc878-0aa8-4c9c-a5aa-1598a20e824a",
   "metadata": {
    "editable": true,
    "slideshow": {
     "slide_type": ""
    },
    "tags": []
   },
   "outputs": [],
   "source": [
    "hist = model.fit(train, epochs=config.epochs, validation_data=val, \n",
    "                 callbacks=[tensorboard_callback, wandb.keras.WandbMetricsLogger(), LRLogger(opt)])\n",
    "\n",
    "run.finish()"
   ]
  },
  {
   "cell_type": "markdown",
   "id": "344f38c0-608c-4d76-bea2-202a51c75a78",
   "metadata": {
    "editable": true,
    "slideshow": {
     "slide_type": ""
    },
    "tags": []
   },
   "source": [
    "### 10.3 Plot Performance"
   ]
  },
  {
   "cell_type": "code",
   "execution_count": null,
   "id": "a56a80ae-6489-4fb4-a866-095db19d61e8",
   "metadata": {
    "editable": true,
    "slideshow": {
     "slide_type": ""
    },
    "tags": []
   },
   "outputs": [],
   "source": [
    "fig, ax = plt.subplots(ncols=3, figsize=(20,5))\n",
    "\n",
    "ax[0].plot(hist.history['total_loss'], color='teal', label='loss')\n",
    "ax[0].plot(hist.history['val_total_loss'], color='orange', label='val loss')\n",
    "ax[0].title.set_text('Loss')\n",
    "ax[0].legend()\n",
    "\n",
    "ax[1].plot(hist.history['class_loss'], color='teal', label='class loss')\n",
    "ax[1].plot(hist.history['val_class_loss'], color='orange', label='val class loss')\n",
    "ax[1].title.set_text('Classification Loss')\n",
    "ax[1].legend()\n",
    "\n",
    "ax[2].plot(hist.history['regress_loss'], color='teal', label='regress loss')\n",
    "ax[2].plot(hist.history['val_regress_loss'], color='orange', label='val regress loss')\n",
    "ax[2].title.set_text('Regression Loss')\n",
    "ax[2].legend()\n",
    "\n",
    "plt.show()"
   ]
  },
  {
   "cell_type": "markdown",
   "id": "8caf87dd-c180-48e6-9091-cef4fb40d2b0",
   "metadata": {
    "editable": true,
    "slideshow": {
     "slide_type": ""
    },
    "tags": []
   },
   "source": [
    "# 11. Make Predictions"
   ]
  },
  {
   "cell_type": "markdown",
   "id": "e082cb99-135f-4658-91dd-4cf57911a707",
   "metadata": {},
   "source": [
    "### 11.1 Make Predictions on Test Set"
   ]
  },
  {
   "cell_type": "code",
   "execution_count": null,
   "id": "d7028bef-9e53-45c9-8591-452f8cbd3f0f",
   "metadata": {},
   "outputs": [],
   "source": [
    "test_data = val.as_numpy_iterator()\n",
    "test_sample = test_data.next()"
   ]
  },
  {
   "cell_type": "code",
   "execution_count": null,
   "id": "0caf751d-563b-41fe-9a5b-98c98131294e",
   "metadata": {
    "tags": []
   },
   "outputs": [],
   "source": [
    "test_sample = test_data.next()\n",
    "\n",
    "yhat = facetracker.predict(test_sample[0])\n",
    "\n",
    "fig, ax = plt.subplots(ncols=4, figsize=(20,20))\n",
    "for idx in range(4): \n",
    "    sample_image = test_sample[0][idx]\n",
    "    sample_coords = yhat[1][idx]\n",
    "    \n",
    "    if yhat[0][idx][0] > 0.9:\n",
    "        cv2.rectangle(sample_image, \n",
    "                      tuple(np.multiply(sample_coords[0:2], [120,120]).astype(int)),\n",
    "                      tuple(np.multiply(sample_coords[2:4], [120,120]).astype(int)), (255,0,0), 2)\n",
    "    if yhat[0][idx][1] > 0.9:\n",
    "        cv2.rectangle(sample_image, \n",
    "                      tuple(np.multiply(sample_coords[4:6], [120,120]).astype(int)),\n",
    "                      tuple(np.multiply(sample_coords[6:8], [120,120]).astype(int)), (0,255,0), 2)\n",
    "    \n",
    "    ax[idx].imshow(sample_image)\n",
    "    ax[idx].set_title(', '.join([f'{x:,.0%}' for x in yhat[0][idx]]))"
   ]
  },
  {
   "cell_type": "markdown",
   "id": "11fb466d-bcc5-4b82-803e-8c962db55f06",
   "metadata": {},
   "source": [
    "### 11.2 Save the Model"
   ]
  },
  {
   "cell_type": "code",
   "execution_count": null,
   "id": "de699894-7b18-4984-9538-728f0f452652",
   "metadata": {
    "tags": []
   },
   "outputs": [],
   "source": [
    "facetracker.save('facetracker.h5')"
   ]
  }
 ],
 "metadata": {
  "kernelspec": {
   "display_name": "face_detection",
   "language": "python",
   "name": "face_detection"
  },
  "language_info": {
   "codemirror_mode": {
    "name": "ipython",
    "version": 3
   },
   "file_extension": ".py",
   "mimetype": "text/x-python",
   "name": "python",
   "nbconvert_exporter": "python",
   "pygments_lexer": "ipython3",
   "version": "3.9.18"
  }
 },
 "nbformat": 4,
 "nbformat_minor": 5
}
