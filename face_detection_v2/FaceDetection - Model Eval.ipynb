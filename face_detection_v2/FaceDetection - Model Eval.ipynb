{
 "cells": [
  {
   "cell_type": "code",
   "execution_count": null,
   "id": "e2a050de-3965-47bf-9532-c18861807492",
   "metadata": {},
   "outputs": [],
   "source": [
    "%load_ext autoreload\n",
    "%autoreload 2"
   ]
  },
  {
   "cell_type": "code",
   "execution_count": null,
   "id": "449dbeb8-bbce-4988-8915-5f8d860733c2",
   "metadata": {},
   "outputs": [],
   "source": [
    "import utils\n",
    "import tensorflow as tf\n",
    "import json\n",
    "import cv2\n",
    "import numpy as np\n",
    "import pandas as pd\n",
    "from matplotlib import pyplot as plt\n",
    "from tensorflow.keras.models import load_model\n",
    "from pathlib import Path"
   ]
  },
  {
   "cell_type": "markdown",
   "id": "3cfeb207-bb7f-41fd-990e-ef2e31de4e82",
   "metadata": {},
   "source": [
    "# Load Dataset"
   ]
  },
  {
   "cell_type": "code",
   "execution_count": null,
   "id": "8f79acca-4646-4ab2-a429-9be4e22d324c",
   "metadata": {},
   "outputs": [],
   "source": [
    "ds = utils.create_ds('val', shuffle=True, include_fns=True)\n",
    "ds_iter = ds.as_numpy_iterator()"
   ]
  },
  {
   "cell_type": "code",
   "execution_count": null,
   "id": "3dc23153-0d46-46e0-8115-108eba38a60f",
   "metadata": {},
   "outputs": [],
   "source": [
    "res = ds_iter.next()\n",
    "fig, ax = plt.subplots(ncols=4, figsize=(20,20))\n",
    "for idx in range(4): \n",
    "    sample_image = res[0][idx]\n",
    "    sample_coords = res[1][1][idx]\n",
    "    sample_labels = ', '.join(res[1][0][idx].astype(str).tolist())\n",
    "\n",
    "    cv2.rectangle(sample_image, \n",
    "                  tuple(np.multiply(sample_coords[0:2], [120,120]).astype(int)),\n",
    "                  tuple(np.multiply(sample_coords[2:4], [120,120]).astype(int)), (255,0,0), 2)\n",
    "    cv2.rectangle(sample_image, \n",
    "                  tuple(np.multiply(sample_coords[4:6], [120,120]).astype(int)),\n",
    "                  tuple(np.multiply(sample_coords[6:8], [120,120]).astype(int)), (0,255,0), 2)\n",
    "\n",
    "    ax[idx].imshow(sample_image)\n",
    "    ax[idx].set_title(sample_labels)"
   ]
  },
  {
   "cell_type": "markdown",
   "id": "cbd9113d-430e-481c-9dab-c8111ab34b79",
   "metadata": {},
   "source": [
    "# Load Model"
   ]
  },
  {
   "cell_type": "code",
   "execution_count": null,
   "id": "72ffea38-8952-4b87-88a0-b3ba1a22d31a",
   "metadata": {},
   "outputs": [],
   "source": [
    "facetracker = load_model('facetracker.h5')"
   ]
  },
  {
   "cell_type": "markdown",
   "id": "697d9e3a-e7e0-4830-9cb1-a79c3385ceb3",
   "metadata": {},
   "source": [
    "# Predictions DataFrame"
   ]
  },
  {
   "cell_type": "code",
   "execution_count": null,
   "id": "bfdda6d3-1750-4e90-ab6e-5f5b7148c121",
   "metadata": {},
   "outputs": [],
   "source": [
    "ds_iter = ds.as_numpy_iterator()\n",
    "images, (classes, coords), fns = ds_iter.next()\n",
    "yhat_class, yhat_coords = facetracker.predict(images)\n",
    "dataset_dir = Path(fns[0].decode('utf-8')).parent"
   ]
  },
  {
   "cell_type": "code",
   "execution_count": null,
   "id": "64801b5f-47bb-4291-9043-5dda64092dc9",
   "metadata": {},
   "outputs": [],
   "source": [
    "cols = [\n",
    "    'fn',\n",
    "    'brendan', 'kara', \n",
    "    'pred_brendan', 'pred_kara', \n",
    "    'bx1', 'by1', 'bx2', 'by2', \n",
    "    'kx1', 'ky1', 'kx2', 'ky2',\n",
    "    'pred_bx1', 'pred_by1', 'pred_bx2', 'pred_by2', \n",
    "    'pred_kx1', 'pred_ky1', 'pred_kx2', 'pred_ky2',\n",
    "]\n",
    "df = (pd.DataFrame(np.concatenate((fns[:, np.newaxis], classes, yhat_class, coords, yhat_coords), axis=1), columns=cols)\n",
    "      .assign(fn = lambda x: x.fn.apply(lambda y: Path(str(y)).stem))\n",
    "      .set_index('fn')\n",
    "     )\n",
    "df"
   ]
  },
  {
   "cell_type": "markdown",
   "id": "a4d79e08-346e-4247-9eb7-e3d44aec8b14",
   "metadata": {},
   "source": [
    "## Add Losses"
   ]
  },
  {
   "cell_type": "code",
   "execution_count": null,
   "id": "b4bd9375-7258-40af-ac0b-44845366db80",
   "metadata": {},
   "outputs": [],
   "source": [
    "for name in ['b', 'k']:\n",
    "    df.loc[:, f'{name}loss_coord'] = (df[f'{name}x1'] - df[f'pred_{name}x1']).pow(2) + (df[f'{name}y1'] - df[f'pred_{name}y1']).pow(2)\n",
    "    df.loc[:, f'{name}loss_size'] = (\n",
    "        ((df[f'pred_{name}x2'] - df[f'pred_{name}x1']) - (df[f'{name}x2'] - df[f'{name}x1'])).pow(2) + \n",
    "        ((df[f'pred_{name}y2'] - df[f'pred_{name}y1']) - (df[f'{name}y2'] - df[f'{name}y1'])).pow(2)\n",
    "    )\n",
    "    df.loc[:, f'{name}loss'] = df.loc[:, f'{name}loss_coord'] + df.loc[:, f'{name}loss_size']\n",
    "\n",
    "df"
   ]
  },
  {
   "cell_type": "markdown",
   "id": "c9abf2ec-811e-4ea6-8b1e-b1350e337c72",
   "metadata": {},
   "source": [
    "# Test Showing First Four Images"
   ]
  },
  {
   "cell_type": "code",
   "execution_count": null,
   "id": "afa16c97-f3c3-4806-8db5-9e2fb3592c9c",
   "metadata": {},
   "outputs": [],
   "source": [
    "def points_percent_to_pixel(x, y, pixel_size=120):\n",
    "    x = int(x * pixel_size)\n",
    "    y = int(y * pixel_size)\n",
    "    return (x, y)"
   ]
  },
  {
   "cell_type": "code",
   "execution_count": null,
   "id": "91c55807-9d42-4b19-a989-84541bf286d9",
   "metadata": {},
   "outputs": [],
   "source": [
    "name = 'brendan'\n",
    "letter = name[0]\n",
    "df_name = df.loc[df.loc[:, name] == 1, :].sort_values('kloss', ascending=True)\n",
    "df_name.head(4)[['kx1', 'ky1', 'kx2', 'ky2','pred_kx1', 'pred_ky1', 'pred_kx2', 'pred_ky2',]]\n",
    "\n",
    "four_iter = iter(range(0, len(df_name), 4))"
   ]
  },
  {
   "cell_type": "code",
   "execution_count": null,
   "id": "be4f5aa2-0d44-414f-bc87-ef19f890816d",
   "metadata": {},
   "outputs": [],
   "source": [
    "i = next(four_iter)\n",
    "df_errors = df_name.iloc[i:i+4]\n",
    "fig, ax = plt.subplots(ncols=4, figsize=(20,20))\n",
    "for idx, (img_fn, row) in enumerate(df_errors.iterrows()):\n",
    "    image = utils.load_image(str(dataset_dir / f'{img_fn}.jpg'))\n",
    "    image = tf.image.resize(image, (120,120)).numpy()\n",
    "    # actual\n",
    "    start_point = points_percent_to_pixel(row[f'{letter}x1'], row[f'{letter}y1'])\n",
    "    end_point = points_percent_to_pixel(row[f'{letter}x2'], row[f'{letter}y2'])\n",
    "    cv2.rectangle(image, start_point, end_point, (9, 121, 105), 2)\n",
    "\n",
    "    # predicted\n",
    "    start_point = points_percent_to_pixel(row[f'pred_{letter}x1'], row[f'pred_{letter}y1'])\n",
    "    end_point = points_percent_to_pixel(row[f'pred_{letter}x2'], row[f'pred_{letter}y2'])\n",
    "    cv2.rectangle(image, start_point, end_point, (236, 255, 220), 1)\n",
    "\n",
    "    ax[idx].imshow(image.astype(int))\n",
    "    # ax[idx].set_title('')"
   ]
  },
  {
   "cell_type": "code",
   "execution_count": null,
   "id": "7922ab72-1738-408f-8c88-bb26ff026a3c",
   "metadata": {},
   "outputs": [],
   "source": [
    "from sklearn.metrics import confusion_matrix"
   ]
  },
  {
   "cell_type": "code",
   "execution_count": null,
   "id": "310d7be5-522b-47ee-a39c-674cde494c7d",
   "metadata": {},
   "outputs": [],
   "source": [
    "(df.loc[:, 'pred_brendan'] > threshold).astype(int).value_counts()"
   ]
  },
  {
   "cell_type": "code",
   "execution_count": null,
   "id": "8c116b40-32ed-48a3-b4ed-339dafa860b6",
   "metadata": {},
   "outputs": [],
   "source": [
    "df.loc[:, 'brendan'].value_counts()"
   ]
  },
  {
   "cell_type": "code",
   "execution_count": null,
   "id": "505653df-67e4-484b-a4f7-80ad3afbb0f7",
   "metadata": {},
   "outputs": [],
   "source": [
    "name = 'brendan'\n",
    "threshold = 0.9\n",
    "confusion_matrix(df.loc[:, 'brendan'].astype('int64'),\n",
    "                 (df.loc[:, 'pred_brendan'] > threshold).astype('int64'))"
   ]
  },
  {
   "cell_type": "code",
   "execution_count": null,
   "id": "a7927bfb-05cd-434f-b840-59038ecf1762",
   "metadata": {},
   "outputs": [],
   "source": [
    "name = 'kara'\n",
    "threshold = 0.9\n",
    "confusion_matrix(df.loc[:, name].astype('int64'),\n",
    "                 (df.loc[:, f'pred_{name}'] > threshold).astype('int64'))"
   ]
  }
 ],
 "metadata": {
  "kernelspec": {
   "display_name": "face_detection",
   "language": "python",
   "name": "face_detection"
  },
  "language_info": {
   "codemirror_mode": {
    "name": "ipython",
    "version": 3
   },
   "file_extension": ".py",
   "mimetype": "text/x-python",
   "name": "python",
   "nbconvert_exporter": "python",
   "pygments_lexer": "ipython3",
   "version": "3.9.18"
  }
 },
 "nbformat": 4,
 "nbformat_minor": 5
}
