{
 "cells": [
  {
   "cell_type": "code",
   "execution_count": null,
   "id": "d092ac65-e8f6-42c8-937f-20f8f554cb02",
   "metadata": {},
   "outputs": [],
   "source": [
    "from tensorflow.keras.models import load_model\n",
    "import cv2\n",
    "import tensorflow as tf\n",
    "import numpy as np\n",
    "from pathlib import Path\n",
    "import matplotlib.pyplot as plt\n",
    "import cv2\n",
    "\n",
    "data_wd = Path('/data') / 'raspi_face_detection'\n",
    "img_path = data_wd / 'images'\n",
    "labels_path = data_wd / 'labels'\n",
    "\n",
    "model_sets_path = data_wd / 'model_sets'\n",
    "aug_sets_path = data_wd / 'aug_data'"
   ]
  },
  {
   "cell_type": "code",
   "execution_count": null,
   "id": "079cebef-13cd-4374-8c71-e657f8efff83",
   "metadata": {},
   "outputs": [],
   "source": [
    "facetracker = load_model('facetracker.h5')"
   ]
  },
  {
   "cell_type": "markdown",
   "id": "140c28a3-bec2-4b57-b801-6bfd05cbe3c9",
   "metadata": {},
   "source": [
    "#### 11.2.1 Single Photo"
   ]
  },
  {
   "cell_type": "code",
   "execution_count": null,
   "id": "6f32d7a0-dd05-44f8-ae4a-1a765d6a5111",
   "metadata": {},
   "outputs": [],
   "source": [
    "final_test_wd = data_wd / 'final_test_images'\n",
    "img_gen = final_test_wd.glob('*.jpg')"
   ]
  },
  {
   "cell_type": "code",
   "execution_count": null,
   "id": "c018e6a0-2b8a-488b-8f6f-ed46c68ea216",
   "metadata": {},
   "outputs": [],
   "source": [
    "frame_captured = cv2.imread(str(next(img_gen)))\n",
    "# cap = cv2.VideoCapture(0)\n",
    "# _, frame_captured = cap.read()\n",
    "\n",
    "frame = frame_captured[30:500, 50:500,:]\n",
    "\n",
    "frame = cv2.cvtColor(frame, cv2.COLOR_BGR2RGB)\n",
    "resized = tf.image.resize(frame, (120,120))\n",
    "\n",
    "frame_size = frame.shape[0:2]\n",
    "\n",
    "yhat = facetracker.predict(np.expand_dims(resized/255,0))\n",
    "labels, sample_coords = [x[0] for x in yhat]\n",
    "labels, sample_coords\n",
    "\n",
    "if yhat[0][0][0] > 0.7:\n",
    "    # Controls the main rectangle\n",
    "    cv2.rectangle(frame, \n",
    "                  tuple(np.multiply(sample_coords[0:2], frame_size).astype(int)),\n",
    "                  tuple(np.multiply(sample_coords[2:4], frame_size).astype(int)), \n",
    "                        (0,255,0), 2)\n",
    "    # Controls the label rectangle\n",
    "    cv2.rectangle(frame, \n",
    "                  tuple(np.add(np.multiply(sample_coords[0:2], frame_size).astype(int), \n",
    "                                [0,-30])),\n",
    "                  tuple(np.add(np.multiply(sample_coords[0:2], frame_size).astype(int),\n",
    "                                [130,0])), \n",
    "                        (0,255,0), -1)\n",
    "    # Controls the text rendered\n",
    "    cv2.putText(frame, 'brendan', tuple(np.add(np.multiply(sample_coords[0:2], frame_size).astype(int),\n",
    "                                           [0,-5])),\n",
    "                cv2.FONT_HERSHEY_SIMPLEX, 1, (255,255,255), 2, cv2.LINE_AA)\n",
    "    \n",
    "if yhat[0][0][1] > 0.9:\n",
    "    # Controls the main rectangle\n",
    "    cv2.rectangle(frame, \n",
    "                  tuple(np.multiply(sample_coords[4:6], frame_size).astype(int)),\n",
    "                  tuple(np.multiply(sample_coords[6:8], frame_size).astype(int)), \n",
    "                        (255,0,0), 2)\n",
    "    # Controls the label rectangle\n",
    "    cv2.rectangle(frame, \n",
    "                  tuple(np.add(np.multiply(sample_coords[4:6], frame_size).astype(int), \n",
    "                                [0,-30])),\n",
    "                  tuple(np.add(np.multiply(sample_coords[4:6], frame_size).astype(int),\n",
    "                                [70,0])), \n",
    "                        (255,0,0), -1)\n",
    "    \n",
    "    # Controls the text rendered\n",
    "    cv2.putText(frame, 'kara', tuple(np.add(np.multiply(sample_coords[4:6], frame_size).astype(int),\n",
    "                                           [0,-5])),\n",
    "                cv2.FONT_HERSHEY_SIMPLEX, 1, (255,255,255), 2, cv2.LINE_AA)\n",
    "\n",
    "im = plt.imshow(frame)\n",
    "im.axes.set_title(f'Brendan: {labels[0]:,.0%}      Kara: {labels[1]:,.0%}')\n",
    "plt.show()"
   ]
  },
  {
   "cell_type": "markdown",
   "id": "e5b060d4-0a23-47fd-8403-a0d0b7113753",
   "metadata": {},
   "source": [
    "### 11.3 Real Time Detection"
   ]
  },
  {
   "cell_type": "code",
   "execution_count": null,
   "id": "08b04294-578c-4e12-b4c8-6e89ff0c02d2",
   "metadata": {
    "tags": []
   },
   "outputs": [],
   "source": [
    "cap = cv2.VideoCapture(0)\n",
    "while cap.isOpened():\n",
    "    _ , frame = cap.read()\n",
    "    frame = frame[30:500, 50:500,:]\n",
    "    \n",
    "    rgb = cv2.cvtColor(frame, cv2.COLOR_BGR2RGB)\n",
    "    resized = tf.image.resize(rgb, (120,120))\n",
    "    \n",
    "    yhat = facetracker.predict(np.expand_dims(resized/255,0))\n",
    "    sample_coords = yhat[1][0]\n",
    "\n",
    "    sample_coords_pixels = (sample_coords * (frame.shape[0:2] * 4)).round().astype(int)\n",
    "    \n",
    "    if yhat[0][0][0] > 0.75:\n",
    "        # Controls the main rectangle\n",
    "        cv2.rectangle(frame,                      \n",
    "                      sample_coords_pixels[0:2], sample_coords_pixels[2:4], \n",
    "                      (0,0,255), 2)\n",
    "        # Controls the label rectangle\n",
    "        cv2.rectangle(frame, \n",
    "                       sample_coords_pixels[0:2] + [0,-30], sample_coords_pixels[0:2] + [130,0],\n",
    "                      (0,0,255), -1)\n",
    "        # Controls the text rendered\n",
    "        cv2.putText(frame, 'brendan', sample_coords_pixels[0:2] + (0,-5),\n",
    "                    cv2.FONT_HERSHEY_SIMPLEX, 1, (255,255,255), 2, cv2.LINE_AA)\n",
    "        \n",
    "    if yhat[0][0][1] > 0.75:\n",
    "        # Controls the main rectangle\n",
    "        cv2.rectangle(frame, \n",
    "                      sample_coords_pixels[4:6], sample_coords_pixels[6:8], \n",
    "                      (0,255,0), 2)\n",
    "        # Controls the label rectangle\n",
    "        cv2.rectangle(frame, \n",
    "                      sample_coords_pixels[4:6] + [0,-30], sample_coords_pixels[4:6] + [70,0], \n",
    "                      (0,255,0), -1)\n",
    "        \n",
    "        # Controls the text rendered\n",
    "        cv2.putText(frame, 'kara', sample_coords_pixels[4:6] + [0,-5],\n",
    "                    cv2.FONT_HERSHEY_SIMPLEX, 1, (255,255,255), 2, cv2.LINE_AA)\n",
    "    \n",
    "    cv2.imshow('EyeTrack', frame)\n",
    "    \n",
    "    if cv2.waitKey(1) & 0xFF == ord('q'):\n",
    "        break\n",
    "cap.release()\n",
    "cv2.destroyAllWindows()"
   ]
  }
 ],
 "metadata": {
  "kernelspec": {
   "display_name": "face_detection",
   "language": "python",
   "name": "face_detection"
  },
  "language_info": {
   "codemirror_mode": {
    "name": "ipython",
    "version": 3
   },
   "file_extension": ".py",
   "mimetype": "text/x-python",
   "name": "python",
   "nbconvert_exporter": "python",
   "pygments_lexer": "ipython3",
   "version": "3.9.18"
  }
 },
 "nbformat": 4,
 "nbformat_minor": 5
}
