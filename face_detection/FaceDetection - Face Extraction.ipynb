{
 "cells": [
  {
   "cell_type": "code",
   "execution_count": null,
   "id": "06c0eb20-f9d7-4183-8697-ba618269c96c",
   "metadata": {},
   "outputs": [],
   "source": [
    "%load_ext autoreload\n",
    "%autoreload 2"
   ]
  },
  {
   "cell_type": "code",
   "execution_count": null,
   "id": "549e8506-a8ad-436a-8690-4179b14aea71",
   "metadata": {},
   "outputs": [],
   "source": [
    "import utils\n",
    "import tensorflow as tf\n",
    "import json\n",
    "import cv2\n",
    "import numpy as np\n",
    "import pandas as pd\n",
    "from matplotlib import pyplot as plt\n",
    "from tensorflow.keras.models import load_model\n",
    "from pathlib import Path"
   ]
  },
  {
   "cell_type": "code",
   "execution_count": null,
   "id": "19ff45a7-13ab-4b9e-961c-8006ccbc68a3",
   "metadata": {},
   "outputs": [],
   "source": [
    "images = utils.img_path.glob('*.jpg')"
   ]
  },
  {
   "cell_type": "code",
   "execution_count": null,
   "id": "2379e5e1-4a14-44a6-8da2-62f7c915d1d9",
   "metadata": {},
   "outputs": [],
   "source": [
    "image_fn = next(images)\n",
    "file_id = image_fn.stem\n",
    "label_fn = utils.labels_path / f'{file_id}.json'\n",
    "\n",
    "image = utils.load_image(str(image_fn)).numpy()\n",
    "\n",
    "with open(label_fn, 'r', encoding = \"utf-8\") as f:\n",
    "    label = json.load(f)\n",
    "\n",
    "points = label['shapes'][0]['points']\n",
    "(x1, y1), (x2, y2) = [tuple(int(coord) for coord in point) for point in points]"
   ]
  },
  {
   "cell_type": "code",
   "execution_count": null,
   "id": "5981d7db-e26d-47c7-86fc-023146a6ad68",
   "metadata": {},
   "outputs": [],
   "source": [
    "face = image[y1:y2, x1:x2]\n",
    "plt.imshow(face)"
   ]
  },
  {
   "cell_type": "code",
   "execution_count": null,
   "id": "adcbcc21-0c67-400b-a63f-c07da814d94c",
   "metadata": {},
   "outputs": [],
   "source": [
    "face_resized = cv2.resize(face, (224, 224))\n",
    "plt.imshow(face_resized)"
   ]
  },
  {
   "cell_type": "code",
   "execution_count": null,
   "id": "c9a6d950-2947-4557-9a95-f63021298e3a",
   "metadata": {},
   "outputs": [],
   "source": [
    "fig, ax = plt.subplots(figsize=(10,10))\n",
    "\n",
    "cv2.rectangle(image, (x1, y1), (x2, y2), (255,0,0), 2)\n",
    "\n",
    "ax.imshow(image)"
   ]
  },
  {
   "cell_type": "code",
   "execution_count": null,
   "id": "43f609ab-684d-4543-95b8-2f26b0e53c43",
   "metadata": {},
   "outputs": [],
   "source": [
    "(x1, y1), (x2, y2) = [tuple(int(coord) for coord in point) for point in points]"
   ]
  },
  {
   "cell_type": "code",
   "execution_count": null,
   "id": "deddab60-927d-4966-93e8-7d3b57495bf1",
   "metadata": {},
   "outputs": [],
   "source": []
  }
 ],
 "metadata": {
  "kernelspec": {
   "display_name": "face_detection",
   "language": "python",
   "name": "face_detection"
  },
  "language_info": {
   "codemirror_mode": {
    "name": "ipython",
    "version": 3
   },
   "file_extension": ".py",
   "mimetype": "text/x-python",
   "name": "python",
   "nbconvert_exporter": "python",
   "pygments_lexer": "ipython3",
   "version": "3.9.18"
  }
 },
 "nbformat": 4,
 "nbformat_minor": 5
}
